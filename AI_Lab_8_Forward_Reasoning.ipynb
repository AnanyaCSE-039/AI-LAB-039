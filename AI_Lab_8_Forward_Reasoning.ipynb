{
  "nbformat": 4,
  "nbformat_minor": 0,
  "metadata": {
    "colab": {
      "provenance": [],
      "authorship_tag": "ABX9TyM2SBfQeFD5f0vAJ8/3ANDM",
      "include_colab_link": true
    },
    "kernelspec": {
      "name": "python3",
      "display_name": "Python 3"
    },
    "language_info": {
      "name": "python"
    }
  },
  "cells": [
    {
      "cell_type": "markdown",
      "metadata": {
        "id": "view-in-github",
        "colab_type": "text"
      },
      "source": [
        "<a href=\"https://colab.research.google.com/github/AnanyaCSE-039/AI-LAB-039/blob/main/AI_Lab_8_Forward_Reasoning.ipynb\" target=\"_parent\"><img src=\"https://colab.research.google.com/assets/colab-badge.svg\" alt=\"Open In Colab\"/></a>"
      ]
    },
    {
      "cell_type": "code",
      "execution_count": null,
      "metadata": {
        "colab": {
          "base_uri": "https://localhost:8080/"
        },
        "id": "MmNTBp4He9-i",
        "outputId": "233290bf-ce32-48f1-d3ff-98b4754fe5f4"
      },
      "outputs": [
        {
          "output_type": "stream",
          "name": "stdout",
          "text": [
            "New fact inferred: C\n",
            "New fact inferred: D\n",
            "New fact inferred: E\n",
            "All facts: {'D', 'A', 'B', 'C', 'E'}\n"
          ]
        }
      ],
      "source": [
        "class ForwardChaining:\n",
        "    def __init__(self):\n",
        "        # A list of facts, starting with the initial knowledge base\n",
        "        self.facts = set()\n",
        "\n",
        "        # A list of rules in the form (antecedent, consequent), where:\n",
        "        # - antecedent is a set of facts required for the rule to be triggered\n",
        "        # - consequent is the new fact to be added if the antecedent is true\n",
        "        self.rules = []\n",
        "\n",
        "    def add_fact(self, fact):\n",
        "        \"\"\"Add a fact to the knowledge base.\"\"\"\n",
        "        self.facts.add(fact)\n",
        "\n",
        "    def add_rule(self, antecedent, consequent):\n",
        "        \"\"\"Add a rule to the knowledge base.\"\"\"\n",
        "        self.rules.append((antecedent, consequent))\n",
        "\n",
        "    def forward_chain(self):\n",
        "        \"\"\"Perform forward chaining to infer new facts.\"\"\"\n",
        "        inferred = True\n",
        "        while inferred:\n",
        "            inferred = False\n",
        "            # Go through each rule and check if its antecedent is satisfied\n",
        "            for antecedent, consequent in self.rules:\n",
        "                if antecedent.issubset(self.facts) and consequent not in self.facts:\n",
        "                    # If all conditions of the antecedent are met, add the consequent fact\n",
        "                    self.facts.add(consequent)\n",
        "                    print(f\"New fact inferred: {consequent}\")\n",
        "                    inferred = True\n",
        "\n",
        "    def get_facts(self):\n",
        "        \"\"\"Get all known facts.\"\"\"\n",
        "        return self.facts\n",
        "\n",
        "\n",
        "# Example Usage\n",
        "# Initialize the forward chaining system\n",
        "fc = ForwardChaining()\n",
        "\n",
        "# Add initial facts\n",
        "fc.add_fact(\"A\")\n",
        "fc.add_fact(\"B\")\n",
        "\n",
        "# Define some rules (antecedent, consequent)\n",
        "fc.add_rule({\"A\", \"B\"}, \"C\")  # If A and B are true, then C is true\n",
        "fc.add_rule({\"C\"}, \"D\")       # If C is true, then D is true\n",
        "fc.add_rule({\"D\", \"A\"}, \"E\")  # If D and A are true, then E is true\n",
        "\n",
        "# Perform forward chaining\n",
        "fc.forward_chain()\n",
        "\n",
        "# Output all inferred facts\n",
        "print(\"All facts:\", fc.get_facts())"
      ]
    },
    {
      "cell_type": "code",
      "source": [],
      "metadata": {
        "id": "mbDgBa9zfITv"
      },
      "execution_count": null,
      "outputs": []
    }
  ]
}