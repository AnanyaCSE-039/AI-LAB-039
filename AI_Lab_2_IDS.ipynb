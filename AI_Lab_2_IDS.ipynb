{
  "nbformat": 4,
  "nbformat_minor": 0,
  "metadata": {
    "colab": {
      "provenance": [],
      "authorship_tag": "ABX9TyMz/SLiiOvXqO4CQoaGxHv1",
      "include_colab_link": true
    },
    "kernelspec": {
      "name": "python3",
      "display_name": "Python 3"
    },
    "language_info": {
      "name": "python"
    }
  },
  "cells": [
    {
      "cell_type": "markdown",
      "metadata": {
        "id": "view-in-github",
        "colab_type": "text"
      },
      "source": [
        "<a href=\"https://colab.research.google.com/github/AnanyaCSE-039/AI-LAB-039/blob/main/AI_Lab_2_IDS.ipynb\" target=\"_parent\"><img src=\"https://colab.research.google.com/assets/colab-badge.svg\" alt=\"Open In Colab\"/></a>"
      ]
    },
    {
      "cell_type": "code",
      "execution_count": null,
      "metadata": {
        "colab": {
          "base_uri": "https://localhost:8080/"
        },
        "id": "oQtdsU0Ydpc0",
        "outputId": "445d4727-c521-42a2-90fc-8f827c3a4e29"
      },
      "outputs": [
        {
          "output_type": "stream",
          "name": "stdout",
          "text": [
            "Solution found:\n",
            "Step 0:\n",
            "1 2 3 \n",
            "0 4 6 \n",
            "7 5 8 \n",
            "\n",
            "Step 1:\n",
            "1 2 3 \n",
            "4 0 6 \n",
            "7 5 8 \n",
            "\n",
            "Step 2:\n",
            "1 2 3 \n",
            "4 5 6 \n",
            "7 0 8 \n",
            "\n",
            "Step 3:\n",
            "1 2 3 \n",
            "4 5 6 \n",
            "7 8 0 \n",
            "\n"
          ]
        }
      ],
      "source": [
        "from collections import deque\n",
        "\n",
        "# Define the possible moves (up, down, left, right)\n",
        "moves = [(0, 1), (0, -1), (1, 0), (-1, 0)]\n",
        "\n",
        "# Define the goal state\n",
        "goal_state = [1, 2, 3, 4, 5, 6, 7, 8, 0]\n",
        "\n",
        "def is_goal(state):\n",
        "    return state == goal_state\n",
        "\n",
        "def get_successors(state):\n",
        "    successors = []\n",
        "    for i in range(9):\n",
        "        if state[i] == 0:\n",
        "            for move in moves:\n",
        "                new_state = list(state)\n",
        "                new_state[i], new_state[(i + move[0] * 3 + move[1]) % 9] = new_state[(i + move[0] * 3 + move[1]) % 9], new_state[i]\n",
        "                successors.append(new_state)\n",
        "            break\n",
        "    return successors\n",
        "\n",
        "def ids_search(initial_state):\n",
        "    for depth in range(1, 100):  # arbitrary max depth\n",
        "        result = dls_search(initial_state, depth, [])\n",
        "        if result is not None:\n",
        "            return result\n",
        "    return None\n",
        "\n",
        "def dls_search(state, depth, path):\n",
        "    if is_goal(state):\n",
        "        return path + [state]\n",
        "    if depth == 0:\n",
        "        return None\n",
        "    for successor in get_successors(state):\n",
        "        result = dls_search(successor, depth - 1, path + [state])\n",
        "        if result is not None:\n",
        "            return result\n",
        "    return None\n",
        "\n",
        "def print_state(state):\n",
        "    for i in range(9):\n",
        "        print(state[i], end=\" \")\n",
        "        if (i + 1) % 3 == 0:\n",
        "            print()\n",
        "\n",
        "def print_solution(solution):\n",
        "    for i, state in enumerate(solution):\n",
        "        print(f\"Step {i}:\")\n",
        "        print_state(state)\n",
        "        print()\n",
        "\n",
        "# Example usage:\n",
        "initial_state = [1, 2, 3, 0, 4, 6, 7, 5, 8]\n",
        "solution = ids_search(initial_state)\n",
        "if solution is not None:\n",
        "    print(\"Solution found:\")\n",
        "    print_solution(solution)\n",
        "else:\n",
        "    print(\"No solution found\")\n"
      ]
    }
  ]
}