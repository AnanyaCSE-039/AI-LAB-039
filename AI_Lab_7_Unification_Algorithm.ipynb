{
  "nbformat": 4,
  "nbformat_minor": 0,
  "metadata": {
    "colab": {
      "provenance": [],
      "authorship_tag": "ABX9TyOPg0Fl2qKO0QU67fcisjRp",
      "include_colab_link": true
    },
    "kernelspec": {
      "name": "python3",
      "display_name": "Python 3"
    },
    "language_info": {
      "name": "python"
    }
  },
  "cells": [
    {
      "cell_type": "markdown",
      "metadata": {
        "id": "view-in-github",
        "colab_type": "text"
      },
      "source": [
        "<a href=\"https://colab.research.google.com/github/AnanyaCSE-039/AI-LAB-039/blob/main/AI_Lab_7_Unification_Algorithm.ipynb\" target=\"_parent\"><img src=\"https://colab.research.google.com/assets/colab-badge.svg\" alt=\"Open In Colab\"/></a>"
      ]
    },
    {
      "cell_type": "code",
      "execution_count": null,
      "metadata": {
        "colab": {
          "base_uri": "https://localhost:8080/"
        },
        "id": "yPIL5NtXMUv1",
        "outputId": "240da7d9-0b70-410f-8ea3-352edbd21117"
      },
      "outputs": [
        {
          "output_type": "stream",
          "name": "stdout",
          "text": [
            "Substitution result: {'b': 'X', 'a': 'Y'}\n"
          ]
        }
      ],
      "source": [
        "def unify(x, y, subst=None):\n",
        "    \"\"\"\n",
        "    Unifies two terms `x` and `y` and returns the substitution.\n",
        "    :param x: First term\n",
        "    :param y: Second term\n",
        "    :param subst: Current substitution (default is None)\n",
        "    :return: A substitution dictionary or failure\n",
        "    \"\"\"\n",
        "    if subst is None:\n",
        "        subst = {}\n",
        "\n",
        "    # Case 1: If both terms are identical, no unification is needed\n",
        "    if x == y:\n",
        "        return subst\n",
        "\n",
        "    # Case 2: If either term is a variable, try to unify by substitution\n",
        "    elif isinstance(x, str) and x.islower():\n",
        "        return unify_variable(x, y, subst)\n",
        "\n",
        "    elif isinstance(y, str) and y.islower():\n",
        "        return unify_variable(y, x, subst)\n",
        "\n",
        "    # Case 3: If both terms are compound (functions) and have the same functor (name)\n",
        "    elif isinstance(x, tuple) and isinstance(y, tuple):\n",
        "        if len(x) != len(y):\n",
        "            return None  # Arity mismatch, cannot unify\n",
        "        for x_sub, y_sub in zip(x[1:], y[1:]):  # skip function name (first element)\n",
        "            subst = unify(x_sub, y_sub, subst)\n",
        "            if subst is None:\n",
        "                return None\n",
        "        return subst\n",
        "\n",
        "    # Case 4: If we cannot unify, return None (failure)\n",
        "    else:\n",
        "        return None\n",
        "\n",
        "\n",
        "def unify_variable(var, term, subst):\n",
        "    \"\"\"\n",
        "    Helper function to unify a variable with a term.\n",
        "    :param var: The variable\n",
        "    :param term: The term\n",
        "    :param subst: Current substitution\n",
        "    :return: Updated substitution or failure\n",
        "    \"\"\"\n",
        "    if var in subst:\n",
        "        return unify(subst[var], term, subst)\n",
        "\n",
        "    if term == var:\n",
        "        return subst\n",
        "\n",
        "    # Check if the term contains the variable (no circular references)\n",
        "    if isinstance(term, str) and term.islower():\n",
        "        if var in term:\n",
        "            return None  # Prevent infinite recursion\n",
        "\n",
        "    # Otherwise, add the variable substitution\n",
        "    subst[var] = term\n",
        "    return subst\n",
        "\n",
        "\n",
        "# Test the unification function\n",
        "x = ('f', 'X', 'a')\n",
        "y = ('f', 'b', 'Y')\n",
        "\n",
        "result = unify(x, y)\n",
        "print(\"Substitution result:\", result)\n"
      ]
    },
    {
      "cell_type": "code",
      "source": [],
      "metadata": {
        "id": "kOZi7JTVfLp3"
      },
      "execution_count": null,
      "outputs": []
    }
  ]
}