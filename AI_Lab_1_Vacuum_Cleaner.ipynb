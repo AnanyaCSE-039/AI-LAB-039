{
  "nbformat": 4,
  "nbformat_minor": 0,
  "metadata": {
    "colab": {
      "provenance": [],
      "authorship_tag": "ABX9TyNSf+ChDCwRa4fL1mlc25to",
      "include_colab_link": true
    },
    "kernelspec": {
      "name": "python3",
      "display_name": "Python 3"
    },
    "language_info": {
      "name": "python"
    }
  },
  "cells": [
    {
      "cell_type": "markdown",
      "metadata": {
        "id": "view-in-github",
        "colab_type": "text"
      },
      "source": [
        "<a href=\"https://colab.research.google.com/github/AnanyaCSE-039/AI-LAB-039/blob/main/AI_Lab_1_Vacuum_Cleaner.ipynb\" target=\"_parent\"><img src=\"https://colab.research.google.com/assets/colab-badge.svg\" alt=\"Open In Colab\"/></a>"
      ]
    },
    {
      "cell_type": "code",
      "source": [
        "def clean(floor):\n",
        "    i, j, row, col = 0, 0, len(floor), len(floor[0])\n",
        "    for i in range(row):\n",
        "        if(i%2 == 0):\n",
        "            for j in range(col):\n",
        "                if(floor[i][j] == 1):\n",
        "                    print_F(floor, i, j)\n",
        "                    floor[i][j] = 0\n",
        "                print_F(floor, i, j)\n",
        "        else:\n",
        "            for j in range(col-1, -1, -1):\n",
        "                if(floor[i][j] == 1):\n",
        "                    print_F(floor, i, j)\n",
        "                    floor[i][j] = 0\n",
        "                print_F(floor, i, j)\n",
        "def print_F(floor, row, col):\n",
        "    \"\"\"A function to print the GRID , (row, col) represent the current vacuum cleaner position\"\"\"\n",
        "    print(\"The Floor matrix is as below:\")\n",
        "    for r in range(len(floor)):\n",
        "        for c in range(len(floor[r])):\n",
        "            if r == row and c == col:\n",
        "                print(f\" >{floor[r][c]}< \", end = '')\n",
        "            else:\n",
        "                print(f\"  {floor[r][c]}  \", end = '')\n",
        "        print(end = '\\n')\n",
        "    print(end = '\\n')\n",
        "def main():\n",
        "    floor = []\n",
        "    print(\"Ananya Agarwal\")\n",
        "    m = int(input(\"Enter the No. of Rows: \"))\n",
        "    n = int(input(\"Enter the No. of Columns: \"))\n",
        "    print(\"Enter clean status for each cell (1 - dirty, 0 - clean)\")\n",
        "    for i in range(m):\n",
        "        f = list(map(int, input().split(\" \")))\n",
        "        floor.append(f)\n",
        "    print()\n",
        "    clean(floor)\n",
        "# Test 1\n",
        "   # floor = [[1, 0, 0, 0],\n",
        "   #          [0, 1, 0, 1],\n",
        "   #          [1, 0, 1, 1]]\n",
        "   # clean(floor)\n",
        "main()"
      ],
      "metadata": {
        "colab": {
          "base_uri": "https://localhost:8080/"
        },
        "id": "a_9fHeBWWmAz",
        "outputId": "5c3c6f56-0aa6-47c5-a161-353233e58dc9"
      },
      "execution_count": null,
      "outputs": [
        {
          "output_type": "stream",
          "name": "stdout",
          "text": [
            "Ananya Agarwal\n",
            "Enter the No. of Rows: 2 \n",
            "Enter the No. of Columns: 1\n",
            "Enter clean status for each cell (1 - dirty, 0 - clean)\n",
            "1\n",
            "0\n",
            "\n",
            "The Floor matrix is as below:\n",
            " >1< \n",
            "  0  \n",
            "\n",
            "The Floor matrix is as below:\n",
            " >0< \n",
            "  0  \n",
            "\n",
            "The Floor matrix is as below:\n",
            "  0  \n",
            " >0< \n",
            "\n"
          ]
        }
      ]
    },
    {
      "cell_type": "code",
      "source": [
        "def clean(floor):\n",
        "    i, j, row, col = 0, 0, len(floor), len(floor[0])\n",
        "    for i in range(row):\n",
        "        if(i%2 == 0):\n",
        "            for j in range(col):\n",
        "                if(floor[i][j] == 1):\n",
        "                    print_F(floor, i, j)\n",
        "                    floor[i][j] = 0\n",
        "                print_F(floor, i, j)\n",
        "        else:\n",
        "            for j in range(col-1, -1, -1):\n",
        "                if(floor[i][j] == 1):\n",
        "                    print_F(floor, i, j)\n",
        "                    floor[i][j] = 0\n",
        "                print_F(floor, i, j)\n",
        "def print_F(floor, row, col):\n",
        "    \"\"\"A function to print the GRID , (row, col) represent the current vacuum cleaner position\"\"\"\n",
        "    print(\"The Floor matrix is as below:\")\n",
        "    for r in range(len(floor)):\n",
        "        for c in range(len(floor[r])):\n",
        "            if r == row and c == col:\n",
        "                print(f\" >{floor[r][c]}< \", end = '')\n",
        "            else:\n",
        "                print(f\"  {floor[r][c]}  \", end = '')\n",
        "        print(end = '\\n')\n",
        "    print(end = '\\n')\n",
        "def main():\n",
        "    floor = []\n",
        "    print(\"Ananya Agarwal\")\n",
        "    m = int(input(\"Enter the No. of Rows: \"))\n",
        "    n = int(input(\"Enter the No. of Columns: \"))\n",
        "    print(\"Enter clean status for each cell (1 - dirty, 0 - clean)\")\n",
        "    for i in range(m):\n",
        "        f = list(map(int, input().split(\" \")))\n",
        "        floor.append(f)\n",
        "    print()\n",
        "    clean(floor)\n",
        "# Test 1\n",
        "   # floor = [[1, 0, 0, 0],\n",
        "   #          [0, 1, 0, 1],\n",
        "   #          [1, 0, 1, 1]]\n",
        "   # clean(floor)\n",
        "main()"
      ],
      "metadata": {
        "colab": {
          "base_uri": "https://localhost:8080/"
        },
        "id": "_5ywAbk4WmYT",
        "outputId": "8ab2fc7f-eceb-4d46-e554-114732c06869"
      },
      "execution_count": null,
      "outputs": [
        {
          "output_type": "stream",
          "name": "stdout",
          "text": [
            "Ananya Agarwal\n",
            "Enter the No. of Rows: 2\n",
            "Enter the No. of Columns: 2\n",
            "Enter clean status for each cell (1 - dirty, 0 - clean)\n",
            "1 0\n",
            "1 1\n",
            "\n",
            "The Floor matrix is as below:\n",
            " >1<   0  \n",
            "  1    1  \n",
            "\n",
            "The Floor matrix is as below:\n",
            " >0<   0  \n",
            "  1    1  \n",
            "\n",
            "The Floor matrix is as below:\n",
            "  0   >0< \n",
            "  1    1  \n",
            "\n",
            "The Floor matrix is as below:\n",
            "  0    0  \n",
            "  1   >1< \n",
            "\n",
            "The Floor matrix is as below:\n",
            "  0    0  \n",
            "  1   >0< \n",
            "\n",
            "The Floor matrix is as below:\n",
            "  0    0  \n",
            " >1<   0  \n",
            "\n",
            "The Floor matrix is as below:\n",
            "  0    0  \n",
            " >0<   0  \n",
            "\n"
          ]
        }
      ]
    }
  ]
}