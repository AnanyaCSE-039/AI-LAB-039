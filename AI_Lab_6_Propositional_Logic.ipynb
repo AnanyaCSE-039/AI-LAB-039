{
  "nbformat": 4,
  "nbformat_minor": 0,
  "metadata": {
    "colab": {
      "provenance": [],
      "authorship_tag": "ABX9TyO9XdoXlIGF9UUURtl31zR6",
      "include_colab_link": true
    },
    "kernelspec": {
      "name": "python3",
      "display_name": "Python 3"
    },
    "language_info": {
      "name": "python"
    }
  },
  "cells": [
    {
      "cell_type": "markdown",
      "metadata": {
        "id": "view-in-github",
        "colab_type": "text"
      },
      "source": [
        "<a href=\"https://colab.research.google.com/github/AnanyaCSE-039/AI-LAB-039/blob/main/AI_Lab_6_Propositional_Logic.ipynb\" target=\"_parent\"><img src=\"https://colab.research.google.com/assets/colab-badge.svg\" alt=\"Open In Colab\"/></a>"
      ]
    },
    {
      "cell_type": "code",
      "source": [
        "from itertools import product\n",
        "\n",
        "def parse_expression(expression, symbols):\n",
        "    # Convert the expression into a lambda function to evaluate for truth values\n",
        "    for symbol in symbols:\n",
        "        expression = expression.replace(symbol, f\"values['{symbol}']\")\n",
        "    return eval(\"lambda values: \" + expression)\n",
        "\n",
        "def generate_truth_table(symbols):\n",
        "    # Generate all possible combinations of truth values\n",
        "    return [dict(zip(symbols, values)) for values in product([True, False], repeat=len(symbols))]\n",
        "\n",
        "def check_entailment(kb_expr, alpha_expr, symbols):\n",
        "    kb_lambda = parse_expression(kb_expr, symbols)\n",
        "    alpha_lambda = parse_expression(alpha_expr, symbols)\n",
        "\n",
        "    truth_table = generate_truth_table(symbols)\n",
        "    entails = True\n",
        "\n",
        "    # Evaluate each row in the truth table\n",
        "    print(\"Truth Table:\")\n",
        "    print(f\"{' '.join(symbols)} | KB | alpha\")\n",
        "    print(\"-\" * (len(symbols) * 5 + 15))\n",
        "\n",
        "    for row in truth_table:\n",
        "        kb_value = kb_lambda(row)\n",
        "        alpha_value = alpha_lambda(row)\n",
        "\n",
        "        print(f\"{' '.join(str(row[symbol]) for symbol in symbols)} | {kb_value} | {alpha_value}\")\n",
        "\n",
        "        # Check if there's a case where KB is True and alpha is False\n",
        "        if kb_value and not alpha_value:\n",
        "            entails = False\n",
        "\n",
        "    return entails\n",
        "\n",
        "# User input for KB and alpha\n",
        "kb_expr = input(\"Enter the KB expression (use 'and', 'or', 'not', 'implies' for ->): \")\n",
        "alpha_expr = input(\"Enter the alpha (query) expression: \")\n",
        "\n",
        "# Extract symbols (propositional variables)\n",
        "symbols = sorted(set(kb_expr.replace(\"and\", \"\").replace(\"or\", \"\").replace(\"not\", \"\").replace(\"(\", \"\").replace(\")\", \"\").replace(\"implies\", \"\").split()) |\n",
        "                 set(alpha_expr.replace(\"and\", \"\").replace(\"or\", \"\").replace(\"not\", \"\").replace(\"(\", \"\").replace(\")\", \"\").replace(\"implies\", \"\").split()))\n",
        "\n",
        "# Substitute 'implies' with 'not p or q' (implication in propositional logic)\n",
        "kb_expr = kb_expr.replace(\"implies\", \" or not \")\n",
        "alpha_expr = alpha_expr.replace(\"implies\", \" or not \")\n",
        "\n",
        "# Check entailment\n",
        "entails = check_entailment(kb_expr, alpha_expr, symbols)\n",
        "print(\"\\nKB entails alpha:\" if entails else \"\\nKB does not entail alpha.\")\n"
      ],
      "metadata": {
        "colab": {
          "base_uri": "https://localhost:8080/"
        },
        "id": "JYcrQNpRvYyv",
        "outputId": "aacda2fd-8c0b-4a50-8414-377bbffa631f"
      },
      "execution_count": null,
      "outputs": [
        {
          "output_type": "stream",
          "name": "stdout",
          "text": [
            "Enter the KB expression (use 'and', 'or', 'not', 'implies' for ->): (Q implies P) and (P implies not Q) and (Q or R)\n",
            "Enter the alpha (query) expression: R implies P\n",
            "Truth Table:\n",
            "P Q R | KB | alpha\n",
            "------------------------------\n",
            "True True True | True | True\n",
            "True True False | True | False\n",
            "True False True | False | True\n",
            "True False False | False | False\n",
            "False True True | True | True\n",
            "False True False | True | True\n",
            "False False True | False | True\n",
            "False False False | False | True\n",
            "\n",
            "KB does not entail alpha.\n"
          ]
        }
      ]
    },
    {
      "cell_type": "code",
      "source": [
        "from itertools import product\n",
        "\n",
        "def parse_expression(expression, symbols):\n",
        "    # Convert the expression into a lambda function to evaluate for truth values\n",
        "    for symbol in symbols:\n",
        "        expression = expression.replace(symbol, f\"values['{symbol}']\")\n",
        "    return eval(\"lambda values: \" + expression)\n",
        "\n",
        "def generate_truth_table(symbols):\n",
        "    # Generate all possible combinations of truth values\n",
        "    return [dict(zip(symbols, values)) for values in product([True, False], repeat=len(symbols))]\n",
        "\n",
        "def check_entailment(kb_expr, alpha_expr, symbols):\n",
        "    kb_lambda = parse_expression(kb_expr, symbols)\n",
        "    alpha_lambda = parse_expression(alpha_expr, symbols)\n",
        "\n",
        "    truth_table = generate_truth_table(symbols)\n",
        "    entails = True\n",
        "\n",
        "    # Evaluate each row in the truth table\n",
        "    print(\"Truth Table:\")\n",
        "    print(f\"{' '.join(symbols)} | KB | alpha\")\n",
        "    print(\"-\" * (len(symbols) * 5 + 15))\n",
        "\n",
        "    for row in truth_table:\n",
        "        kb_value = kb_lambda(row)\n",
        "        alpha_value = alpha_lambda(row)\n",
        "\n",
        "        print(f\"{' '.join(str(row[symbol]) for symbol in symbols)} | {kb_value} | {alpha_value}\")\n",
        "\n",
        "        # Check if there's a case where KB is True and alpha is False\n",
        "        if kb_value and not alpha_value:\n",
        "            entails = False\n",
        "\n",
        "    return entails\n",
        "\n",
        "# User input for KB and alpha\n",
        "kb_expr = input(\"Enter the KB expression (use 'and', 'or', 'not', 'implies' for ->): \")\n",
        "alpha_expr = input(\"Enter the alpha (query) expression: \")\n",
        "\n",
        "# Extract symbols (propositional variables)\n",
        "symbols = sorted(set(kb_expr.replace(\"and\", \"\").replace(\"or\", \"\").replace(\"not\", \"\").replace(\"(\", \"\").replace(\")\", \"\").replace(\"implies\", \"\").split()) |\n",
        "                 set(alpha_expr.replace(\"and\", \"\").replace(\"or\", \"\").replace(\"not\", \"\").replace(\"(\", \"\").replace(\")\", \"\").replace(\"implies\", \"\").split()))\n",
        "\n",
        "# Substitute 'implies' with 'not p or q' (implication in propositional logic)\n",
        "kb_expr = kb_expr.replace(\"implies\", \" or not \")\n",
        "alpha_expr = alpha_expr.replace(\"implies\", \" or not \")\n",
        "\n",
        "# Check entailment\n",
        "entails = check_entailment(kb_expr, alpha_expr, symbols)\n",
        "print(\"\\nKB entails alpha:\" if entails else \"\\nKB does not entail alpha.\")\n"
      ],
      "metadata": {
        "colab": {
          "base_uri": "https://localhost:8080/"
        },
        "id": "ZBWgVrUlv11t",
        "outputId": "ecd94111-fce7-4217-f565-bb97ba9e4e0f"
      },
      "execution_count": null,
      "outputs": [
        {
          "output_type": "stream",
          "name": "stdout",
          "text": [
            "Enter the KB expression (use 'and', 'or', 'not', 'implies' for ->): (Q implies P) and (P implies not Q) and (Q or R)\n",
            "Enter the alpha (query) expression: R\n",
            "Truth Table:\n",
            "P Q R | KB | alpha\n",
            "------------------------------\n",
            "True True True | True | True\n",
            "True True False | True | False\n",
            "True False True | False | True\n",
            "True False False | False | False\n",
            "False True True | True | True\n",
            "False True False | True | False\n",
            "False False True | False | True\n",
            "False False False | False | False\n",
            "\n",
            "KB does not entail alpha.\n"
          ]
        }
      ]
    },
    {
      "cell_type": "code",
      "source": [
        "from itertools import product\n",
        "\n",
        "def parse_expression(expression, symbols):\n",
        "    # Convert the expression into a lambda function to evaluate for truth values\n",
        "    for symbol in symbols:\n",
        "        expression = expression.replace(symbol, f\"values['{symbol}']\")\n",
        "    return eval(\"lambda values: \" + expression)\n",
        "\n",
        "def generate_truth_table(symbols):\n",
        "    # Generate all possible combinations of truth values\n",
        "    return [dict(zip(symbols, values)) for values in product([True, False], repeat=len(symbols))]\n",
        "\n",
        "def check_entailment(kb_expr, alpha_expr, symbols):\n",
        "    kb_lambda = parse_expression(kb_expr, symbols)\n",
        "    alpha_lambda = parse_expression(alpha_expr, symbols)\n",
        "\n",
        "    truth_table = generate_truth_table(symbols)\n",
        "    entails = True\n",
        "\n",
        "    # Evaluate each row in the truth table\n",
        "    print(\"Truth Table:\")\n",
        "    print(f\"{' '.join(symbols)} | KB | alpha\")\n",
        "    print(\"-\" * (len(symbols) * 5 + 15))\n",
        "\n",
        "    for row in truth_table:\n",
        "        kb_value = kb_lambda(row)\n",
        "        alpha_value = alpha_lambda(row)\n",
        "\n",
        "        print(f\"{' '.join(str(row[symbol]) for symbol in symbols)} | {kb_value} | {alpha_value}\")\n",
        "\n",
        "        # Check if there's a case where KB is True and alpha is False\n",
        "        if kb_value and not alpha_value:\n",
        "            entails = False\n",
        "\n",
        "    return entails\n",
        "\n",
        "# User input for KB and alpha\n",
        "kb_expr = input(\"Enter the KB expression (use 'and', 'or', 'not', 'implies' for ->): \")\n",
        "alpha_expr = input(\"Enter the alpha (query) expression: \")\n",
        "\n",
        "# Extract symbols (propositional variables)\n",
        "symbols = sorted(set(kb_expr.replace(\"and\", \"\").replace(\"or\", \"\").replace(\"not\", \"\").replace(\"(\", \"\").replace(\")\", \"\").replace(\"implies\", \"\").split()) |\n",
        "                 set(alpha_expr.replace(\"and\", \"\").replace(\"or\", \"\").replace(\"not\", \"\").replace(\"(\", \"\").replace(\")\", \"\").replace(\"implies\", \"\").split()))\n",
        "\n",
        "# Substitute 'implies' with 'not p or q' (implication in propositional logic)\n",
        "kb_expr = kb_expr.replace(\"implies\", \" or not \")\n",
        "alpha_expr = alpha_expr.replace(\"implies\", \" or not \")\n",
        "\n",
        "# Check entailment\n",
        "entails = check_entailment(kb_expr, alpha_expr, symbols)\n",
        "print(\"\\nKB entails alpha:\" if entails else \"\\nKB does not entail alpha.\")\n"
      ],
      "metadata": {
        "colab": {
          "base_uri": "https://localhost:8080/"
        },
        "id": "4XqK7bRGv17l",
        "outputId": "2f10eb19-a181-4491-8c56-d57e6752313f"
      },
      "execution_count": null,
      "outputs": [
        {
          "output_type": "stream",
          "name": "stdout",
          "text": [
            "Enter the KB expression (use 'and', 'or', 'not', 'implies' for ->): (Q implies P) and (P implies not Q) and (Q or R)\n",
            "Enter the alpha (query) expression: Q implies R\n",
            "Truth Table:\n",
            "P Q R | KB | alpha\n",
            "------------------------------\n",
            "True True True | True | True\n",
            "True True False | True | True\n",
            "True False True | False | False\n",
            "True False False | False | True\n",
            "False True True | True | True\n",
            "False True False | True | True\n",
            "False False True | False | False\n",
            "False False False | False | True\n",
            "\n",
            "KB entails alpha:\n"
          ]
        }
      ]
    }
  ]
}