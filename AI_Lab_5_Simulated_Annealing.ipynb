{
  "nbformat": 4,
  "nbformat_minor": 0,
  "metadata": {
    "colab": {
      "provenance": [],
      "authorship_tag": "ABX9TyMTHFMbm4M3cTxjRCuxa8aT",
      "include_colab_link": true
    },
    "kernelspec": {
      "name": "python3",
      "display_name": "Python 3"
    },
    "language_info": {
      "name": "python"
    }
  },
  "cells": [
    {
      "cell_type": "markdown",
      "metadata": {
        "id": "view-in-github",
        "colab_type": "text"
      },
      "source": [
        "<a href=\"https://colab.research.google.com/github/AnanyaCSE-039/AI-LAB-039/blob/main/AI_Lab_5_Simulated_Annealing.ipynb\" target=\"_parent\"><img src=\"https://colab.research.google.com/assets/colab-badge.svg\" alt=\"Open In Colab\"/></a>"
      ]
    },
    {
      "cell_type": "code",
      "source": [
        "import random\n",
        "import math\n",
        "\n",
        "def cal_confs(board):\n",
        "    conf = 0\n",
        "    for i in range(len(board)):\n",
        "        for j in range(i + 1, len(board)):\n",
        "            if board[i] == board[j]:\n",
        "                conf += 1\n",
        "            if abs(board[i] - board[j]) == abs(i - j):\n",
        "                conf += 1\n",
        "    return conf\n",
        "\n",
        "def make_random_move(board):\n",
        "    new_board = board[:]\n",
        "    col = random.randint(0, len(board) - 1)\n",
        "    new_row = random.randint(0, len(board) - 1)\n",
        "    new_board[col] = new_row\n",
        "    return new_board\n",
        "\n",
        "def simulated_annealing(N, initial_board):\n",
        "    curr_board = initial_board[:]\n",
        "    curr_confs = cal_confs(curr_board)\n",
        "    T = 1000\n",
        "    T_min = 0.0001\n",
        "    alpha = 0.99\n",
        "    iteration = 0\n",
        "    while T > T_min and curr_confs > 0:\n",
        "        iteration += 1\n",
        "        if iteration % 100 == 0:\n",
        "            print(f\"Iteration {iteration}: Current Conflicts = {curr_confs}\")\n",
        "\n",
        "        new_board = make_random_move(curr_board)\n",
        "        new_confs = cal_confs(new_board)\n",
        "\n",
        "        delta_E = new_confs - curr_confs\n",
        "        if delta_E < 0 or random.uniform(0, 1) < math.exp(-delta_E / T):\n",
        "            curr_board, curr_confs = new_board, new_confs\n",
        "\n",
        "        T *= alpha\n",
        "        if curr_confs == 0:\n",
        "            print(f\"Solution found in {iteration} iterations\")\n",
        "            break\n",
        "\n",
        "    return curr_board, curr_confs\n",
        "\n",
        "def solve_8_queens():\n",
        "    N = 8\n",
        "\n",
        "    print(f\"Enter initial state as a list of {N} integers representing the row positions of the queens.\")\n",
        "    print(\"As it is a 8 queens problem, values should range from 0 to 7.\")\n",
        "\n",
        "    while True:\n",
        "        try:\n",
        "            initial_state = input(f\"Enter initial state for {N} queens: \")\n",
        "            initial_board = [int(x) for x in initial_state.strip('[]').split(',')]\n",
        "            if len(initial_board) != N or any(x < 0 or x >= N for x in initial_board):\n",
        "                raise ValueError(\"Invalid board configuration. Ensure the numbers are within valid range and exactly N numbers are provided.\")\n",
        "            break\n",
        "        except ValueError as e:\n",
        "            print(f\"Error: {e}\")\n",
        "            print(\"Please enter a valid initial state.\")\n",
        "\n",
        "    print(\"Initial board:\", initial_board)\n",
        "\n",
        "    soln_board, soln_confs = simulated_annealing(N, initial_board)\n",
        "\n",
        "    if soln_confs == 0:\n",
        "        print(\"Solution found!\")\n",
        "        print(\"Board configuration:\", soln_board)\n",
        "    else:\n",
        "        print(\"Solution not found. Final conflicts:\", soln_confs)\n",
        "\n",
        "solve_8_queens()"
      ],
      "metadata": {
        "colab": {
          "base_uri": "https://localhost:8080/"
        },
        "id": "dnQPspg2nAzv",
        "outputId": "bca6cad9-0a61-45d1-9f75-416699778b35"
      },
      "execution_count": 8,
      "outputs": [
        {
          "output_type": "stream",
          "name": "stdout",
          "text": [
            "Enter initial state as a list of 8 integers representing the row positions of the queens.\n",
            "As it is a 8 queens problem, values should range from 0 to 7.\n",
            "Enter initial state for 8 queens: 7, 8, 0, 4, 1, 2, 6, 3, 5\n",
            "Error: Invalid board configuration. Ensure the numbers are within valid range and exactly N numbers are provided.\n",
            "Please enter a valid initial state.\n",
            "Enter initial state for 8 queens: 0, 7, 6, 1, 4, 2, 5, 3\n",
            "Initial board: [0, 7, 6, 1, 4, 2, 5, 3]\n",
            "Iteration 100: Current Conflicts = 5\n",
            "Iteration 200: Current Conflicts = 12\n",
            "Iteration 300: Current Conflicts = 8\n",
            "Iteration 400: Current Conflicts = 8\n",
            "Iteration 500: Current Conflicts = 10\n",
            "Iteration 600: Current Conflicts = 6\n",
            "Iteration 700: Current Conflicts = 5\n",
            "Iteration 800: Current Conflicts = 1\n",
            "Iteration 900: Current Conflicts = 2\n",
            "Iteration 1000: Current Conflicts = 1\n",
            "Iteration 1100: Current Conflicts = 1\n",
            "Iteration 1200: Current Conflicts = 1\n",
            "Iteration 1300: Current Conflicts = 1\n",
            "Iteration 1400: Current Conflicts = 1\n",
            "Iteration 1500: Current Conflicts = 1\n",
            "Iteration 1600: Current Conflicts = 1\n",
            "Solution not found. Final conflicts: 1\n"
          ]
        }
      ]
    }
  ]
}